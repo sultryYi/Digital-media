{
 "cells": [
  {
   "cell_type": "code",
   "execution_count": 65,
   "metadata": {},
   "outputs": [],
   "source": [
    "import pydub\n",
    "from pydub import AudioSegment\n",
    "import os\n",
    "import time\n",
    "import cv2\n",
    "import sys"
   ]
  },
  {
   "cell_type": "code",
   "execution_count": 38,
   "metadata": {},
   "outputs": [
    {
     "name": "stdout",
     "output_type": "stream",
     "text": [
      "音频时长382825ms\n",
      "压缩前文件大小:67530614B\n",
      "压缩后文件大小:6126280B\n",
      "压缩耗时:12.844171s\n",
      "解压耗时:0.142241s\n",
      "压缩倍率:11.023103\n"
     ]
    }
   ],
   "source": [
    "song = AudioSegment.from_wav('wav/fav.wav')\n",
    "before = os.path.getsize('wav/fav.wav')\n",
    "pre_start = time.time()\n",
    "song.export(os.path.join(\"output/fav.mp3\"), format=\"mp3\")\n",
    "pre_end = time.time()\n",
    "after = os.path.getsize('output/fav.mp3')\n",
    "\n",
    "mp3 = AudioSegment.from_mp3(os.path.join(\"output/fav.mp3\"))\n",
    "post_start = time.time()\n",
    "song.export(os.path.join(\"output/fav.wav\"), format=\"wav\")\n",
    "post_end = time.time()\n",
    "print('音频时长%dms' % (1000*song.duration_seconds))\n",
    "print('压缩前文件大小:%dB'%before)\n",
    "print('压缩后文件大小:%dB'%after)\n",
    "print('压缩耗时:%fs' % (pre_end - pre_start))\n",
    "print('解压耗时:%fs' % (post_end - post_start))\n",
    "print('压缩倍率:%f'%(before/after))"
   ]
  },
  {
   "cell_type": "code",
   "execution_count": 66,
   "metadata": {},
   "outputs": [
    {
     "name": "stdout",
     "output_type": "stream",
     "text": [
      "图像宽高:(1292,1929)\n",
      "压缩前图像大小:7478150B\n",
      "压缩后图像大小:437760B\n",
      "压缩耗时:0.083579s\n",
      "解压耗时:0.062831s\n",
      "压缩倍率:17.082762\n"
     ]
    }
   ],
   "source": [
    "bmp = cv2.imread('bmp/fav.bmp')\n",
    "pre_start = time.time()\n",
    "jpeg = cv2.imencode('.jpeg',bmp)[1]\n",
    "pre_end = time.time()\n",
    "post_start = time.time()\n",
    "jpeg_decode = cv2.imdecode(jpeg,cv2.IMREAD_COLOR)\n",
    "post_end = time.time()\n",
    "before = os.path.getsize('bmp/fav.bmp')\n",
    "after = sys.getsizeof(jpeg)\n",
    "print('图像宽高:(%d,%d)'%(bmp.shape[0],bmp.shape[1]))\n",
    "print('压缩前图像大小:%dB'%before)\n",
    "print('压缩后图像大小:%dB'%after)\n",
    "print('压缩耗时:%fs' % (pre_end - pre_start))\n",
    "print('解压耗时:%fs' % (post_end - post_start))\n",
    "print('压缩倍率:%f'%(before/after))"
   ]
  }
 ],
 "metadata": {
  "kernelspec": {
   "display_name": "Python 3",
   "language": "python",
   "name": "python3"
  },
  "language_info": {
   "codemirror_mode": {
    "name": "ipython",
    "version": 3
   },
   "file_extension": ".py",
   "mimetype": "text/x-python",
   "name": "python",
   "nbconvert_exporter": "python",
   "pygments_lexer": "ipython3",
   "version": "3.7.0"
  },
  "varInspector": {
   "cols": {
    "lenName": 16,
    "lenType": 16,
    "lenVar": 40
   },
   "kernels_config": {
    "python": {
     "delete_cmd_postfix": "",
     "delete_cmd_prefix": "del ",
     "library": "var_list.py",
     "varRefreshCmd": "print(var_dic_list())"
    },
    "r": {
     "delete_cmd_postfix": ") ",
     "delete_cmd_prefix": "rm(",
     "library": "var_list.r",
     "varRefreshCmd": "cat(var_dic_list()) "
    }
   },
   "types_to_exclude": [
    "module",
    "function",
    "builtin_function_or_method",
    "instance",
    "_Feature"
   ],
   "window_display": false
  }
 },
 "nbformat": 4,
 "nbformat_minor": 2
}
