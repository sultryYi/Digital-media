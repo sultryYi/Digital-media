{
 "cells": [
  {
   "cell_type": "code",
   "execution_count": 1,
   "metadata": {},
   "outputs": [],
   "source": [
    "import cv2\n",
    "import numpy as np\n",
    "import matplotlib\n",
    "matplotlib.use('Qt5Agg')\n",
    "import matplotlib.pyplot as plt\n",
    "import time\n",
    "import math\n",
    "import pywt"
   ]
  },
  {
   "cell_type": "code",
   "execution_count": 2,
   "metadata": {},
   "outputs": [],
   "source": [
    "class Bitmap:\n",
    "    def __init__(self, filePath):\n",
    "        #读取图像\n",
    "        self.img_gray = cv2.imread(filePath, 0)\n",
    "        self.img = cv2.imread(filePath)\n",
    "\n",
    "    def psnr(self, origin, target):\n",
    "        MSE = np.mean((origin - target)**2)\n",
    "        MAX = 255\n",
    "        PSNR = 10 * math.log((MAX**2) / MSE, 10)\n",
    "        return PSNR\n",
    "\n",
    "    def ssim(self, origin, target):\n",
    "        mu_x = np.mean(origin)\n",
    "        mu_y = np.mean(target)\n",
    "        sigma_x = np.std(origin)\n",
    "        sigma_y = np.std(target)\n",
    "        sigma_xy = np.cov(origin, target)\n",
    "\n",
    "        k1 = 0.01\n",
    "        k2 = 0.03\n",
    "        L = 255\n",
    "\n",
    "        c1 = (k1 * L)**2\n",
    "        c2 = (k2 * L)**2\n",
    "\n",
    "        up = (2 * mu_x * mu_y + c1) * (2 * sigma_xy + c2)\n",
    "        down = (mu_x**2 + mu_y**2 + c1) * (sigma_x**2 + sigma_y**2 + c2)\n",
    "\n",
    "        SSIM = np.mean(up / down)\n",
    "\n",
    "        return SSIM\n",
    "\n",
    "    def DFT(self):\n",
    "        #快速傅里叶变换算法得到频率分布\n",
    "        start = time.time()\n",
    "        f = np.fft.fft2(self.img_gray.copy())\n",
    "        end = time.time()\n",
    "        print('图像大小为:(%d,%d)' %\n",
    "              (self.img_gray.shape[0], self.img_gray.shape[1]))\n",
    "        print('FFT耗时为:%dms' % ((end - start) * 1000))\n",
    "        \n",
    "        ifft = np.real(np.fft.ifft2(f))\n",
    "\n",
    "        #默认结果中心点位置是在左上角,\n",
    "        #调用fftshift()函数转移到中间位置\n",
    "        fshift = np.fft.fftshift(f)\n",
    "        log = np.log(fshift)\n",
    "\n",
    "        real = np.real(log)\n",
    "        imag = np.imag(log)\n",
    "\n",
    "        amplitude = real / np.max(real)\n",
    "        phase = imag / np.max(imag)\n",
    "\n",
    "        #展示结果\n",
    "        #原图，复原图，幅度，相位\n",
    "        fig = plt.figure('FFT')\n",
    "        plt.subplot(221), plt.imshow(self.img_gray,\n",
    "                                     'gray'), plt.title('original')\n",
    "        plt.axis('off')\n",
    "        plt.subplot(222), plt.imshow(ifft,'gray'),plt.title('ifft')\n",
    "        plt.axis('off')\n",
    "        plt.subplot(223), plt.imshow(amplitude, 'gray'), plt.title('amplitude')\n",
    "        plt.axis('off')\n",
    "        plt.subplot(224), plt.imshow(phase, 'gray'), plt.title('phase')\n",
    "        plt.axis('off')\n",
    "        fig.show()\n",
    "\n",
    "    def DCT(self):\n",
    "        #         b = self.img[:][:][0]\n",
    "        #         g = self.img[:][:][1]\n",
    "        #         r = self.img[:][:][2]\n",
    "        res = np.float32(self.img_gray.copy())\n",
    "        img_dct = cv2.dct(res)\n",
    "        img_idct = cv2.idct(img_dct)\n",
    "        img_dct = np.log(abs(img_dct))\n",
    "\n",
    "        fig = plt.figure('DCT')\n",
    "        plt.subplot(131), plt.imshow(self.img_gray,\n",
    "                                     'gray'), plt.title('original')\n",
    "        plt.axis('off')\n",
    "        plt.subplot(132), plt.imshow(img_dct, 'gray'), plt.title('DCT')\n",
    "        plt.axis('off')\n",
    "        plt.subplot(133), plt.imshow(img_idct, 'gray'), plt.title('IDCT')\n",
    "        plt.axis('off')\n",
    "        fig.show()\n",
    "\n",
    "        PSNR = self.psnr(res.copy(), img_idct.copy())\n",
    "        print('DCT与IDCT之后原始图像与恢复图像 PSNR =', PSNR)\n",
    "\n",
    "        SSIM = self.ssim(res.copy(), img_idct.copy())\n",
    "        print('DCT与IDCT之后原始图像与恢复图像 SSIM =', SSIM)\n",
    "\n",
    "    def DWT(self):\n",
    "        res = self.img_gray.copy()\n",
    "\n",
    "        titles = [\n",
    "            'Approximation', ' Horizontal detail', 'Vertical detail',\n",
    "            'Diagonal detail'\n",
    "        ]\n",
    "        coeffs2 = pywt.dwt2(res, 'bior1.3')\n",
    "        LL, (LH, HL, HH) = coeffs2\n",
    "        fig = plt.figure('DWT', figsize=(12, 3))\n",
    "        for i, a in enumerate([LL, LH, HL, HH]):\n",
    "            ax = fig.add_subplot(2, 2, i + 1)\n",
    "            ax.imshow(a, interpolation=\"nearest\", cmap=plt.cm.gray)\n",
    "            ax.set_title(titles[i], fontsize=10)\n",
    "            ax.set_xticks([])\n",
    "            ax.set_yticks([])\n",
    "\n",
    "        fig.tight_layout()\n",
    "        fig.show()"
   ]
  },
  {
   "cell_type": "code",
   "execution_count": 3,
   "metadata": {},
   "outputs": [
    {
     "name": "stdout",
     "output_type": "stream",
     "text": [
      "图像大小为:(333,500)\n",
      "FFT耗时为:13ms\n",
      "DCT与IDCT之后原始图像与恢复图像 PSNR = 129.5801667279967\n",
      "DCT与IDCT之后原始图像与恢复图像 SSIM = 0.4808611236625527\n"
     ]
    }
   ],
   "source": [
    "filePath = 'bmp/fav.bmp'\n",
    "bitmap = Bitmap(filePath)\n",
    "bitmap.DFT()\n",
    "bitmap.DCT()\n",
    "bitmap.DWT()"
   ]
  }
 ],
 "metadata": {
  "kernelspec": {
   "display_name": "Python 3",
   "language": "python",
   "name": "python3"
  },
  "language_info": {
   "codemirror_mode": {
    "name": "ipython",
    "version": 3
   },
   "file_extension": ".py",
   "mimetype": "text/x-python",
   "name": "python",
   "nbconvert_exporter": "python",
   "pygments_lexer": "ipython3",
   "version": "3.7.0"
  },
  "varInspector": {
   "cols": {
    "lenName": 16,
    "lenType": 16,
    "lenVar": 40
   },
   "kernels_config": {
    "python": {
     "delete_cmd_postfix": "",
     "delete_cmd_prefix": "del ",
     "library": "var_list.py",
     "varRefreshCmd": "print(var_dic_list())"
    },
    "r": {
     "delete_cmd_postfix": ") ",
     "delete_cmd_prefix": "rm(",
     "library": "var_list.r",
     "varRefreshCmd": "cat(var_dic_list()) "
    }
   },
   "types_to_exclude": [
    "module",
    "function",
    "builtin_function_or_method",
    "instance",
    "_Feature"
   ],
   "window_display": false
  }
 },
 "nbformat": 4,
 "nbformat_minor": 2
}
